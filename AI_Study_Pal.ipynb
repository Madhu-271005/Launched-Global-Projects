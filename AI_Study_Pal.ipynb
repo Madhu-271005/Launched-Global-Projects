{
  "cells": [
    {
      "cell_type": "markdown",
      "metadata": {
        "id": "view-in-github",
        "colab_type": "text"
      },
      "source": [
        "<a href=\"https://colab.research.google.com/github/Madhu-271005/Launched-Global-Projects/blob/main/AI_Study_Pal.ipynb\" target=\"_parent\"><img src=\"https://colab.research.google.com/assets/colab-badge.svg\" alt=\"Open In Colab\"/></a>"
      ]
    },
    {
      "cell_type": "markdown",
      "source": [
        "#  Setup & Install Required Libraries\n",
        "This cell installs all the Python libraries needed for the project:\n",
        "- `nltk` → Natural Language Processing\n",
        "- `flask` → Web app\n",
        "- `scikit-learn` → Machine Learning models\n",
        "- `keras` & `tensorflow` → Deep Learning\n"
      ],
      "metadata": {
        "id": "-olT9L6acMdV"
      }
    },
    {
      "cell_type": "code",
      "execution_count": null,
      "metadata": {
        "colab": {
          "base_uri": "https://localhost:8080/"
        },
        "id": "W4JJqh0kDnK-",
        "outputId": "b6172f3b-0a42-4bc0-b01b-d7c83994ca83"
      },
      "outputs": [
        {
          "output_type": "stream",
          "name": "stdout",
          "text": [
            "/bin/bash: -c: line 1: syntax error near unexpected token `\"install nltk flask scikit-learn keras tensorflow\"'\n",
            "/bin/bash: -c: line 1: `pip(\"install nltk flask scikit-learn keras tensorflow\")'\n"
          ]
        }
      ],
      "source": [
        ";!pip install nltk flask scikit-learn keras tensorflow"
      ]
    },
    {
      "cell_type": "markdown",
      "source": [
        "#  Import Libraries\n",
        "Now we import all the libraries we just installed so we can use them in the project.\n"
      ],
      "metadata": {
        "id": "N3g5VuxUcP2l"
      }
    },
    {
      "cell_type": "code",
      "execution_count": null,
      "metadata": {
        "colab": {
          "base_uri": "https://localhost:8080/"
        },
        "id": "7k9Rfg4NEAJ6",
        "outputId": "b9da7b34-1986-4b6d-db11-773243821b3e"
      },
      "outputs": [
        {
          "output_type": "stream",
          "name": "stdout",
          "text": [
            "/bin/bash: -c: line 1: syntax error near unexpected token `\"install nltk flask scikit-learn keras tensorflowimport pandas as pd\"'\n",
            "/bin/bash: -c: line 1: `pip(\"install nltk flask scikit-learn keras tensorflowimport pandas as pd\")'\n"
          ]
        },
        {
          "output_type": "stream",
          "name": "stderr",
          "text": [
            "[nltk_data] Downloading package punkt to /root/nltk_data...\n",
            "[nltk_data]   Package punkt is already up-to-date!\n",
            "[nltk_data] Downloading package stopwords to /root/nltk_data...\n",
            "[nltk_data]   Package stopwords is already up-to-date!\n"
          ]
        },
        {
          "output_type": "execute_result",
          "data": {
            "text/plain": [
              "True"
            ]
          },
          "metadata": {},
          "execution_count": 91
        }
      ],
      "source": [
        "import matplotlib.pyplot as plt\n",
        "import nltk\n",
        "import random\n",
        "from sklearn.feature_extraction.text import CountVectorizer\n",
        "from sklearn.linear_model import LogisticRegression\n",
        "from sklearn.cluster import KMeans\n",
        "from keras.models import Sequential\n",
        "from keras.layers import Dense\n",
        "from nltk.corpus import stopwords\n",
        "from nltk.tokenize import word_tokenize\n",
        "\n",
        "# download stopwords and tokenizer data\n",
        "nltk.download('punkt')\n",
        "nltk.download('stopwords')"
      ]
    },
    {
      "cell_type": "markdown",
      "source": [
        "## Load Dataset\n",
        "\n",
        "- **Purpose:** Load the Question-Answer dataset.  \n",
        "- **Input:** `/content/S08_question_answer_pairs.txt` (tab-separated file)  \n",
        "- **Output:** Pandas DataFrame showing the first few rows  \n",
        "\n",
        "> ⚠️ Warning: Make sure the file path is correct.\n"
      ],
      "metadata": {
        "id": "6TXwFUjDcyHO"
      }
    },
    {
      "cell_type": "code",
      "execution_count": null,
      "metadata": {
        "colab": {
          "base_uri": "https://localhost:8080/",
          "height": 206
        },
        "id": "kVbut4Y4pbu0",
        "outputId": "ca7c9162-28cc-4ec7-d00c-b5ffce0f78c9"
      },
      "outputs": [
        {
          "output_type": "execute_result",
          "data": {
            "text/plain": [
              "      ArticleTitle                                           Question Answer  \\\n",
              "0  Abraham_Lincoln  Was Abraham Lincoln the sixteenth President of...    yes   \n",
              "1  Abraham_Lincoln  Was Abraham Lincoln the sixteenth President of...   Yes.   \n",
              "2  Abraham_Lincoln  Did Lincoln sign the National Banking Act of 1...    yes   \n",
              "3  Abraham_Lincoln  Did Lincoln sign the National Banking Act of 1...   Yes.   \n",
              "4  Abraham_Lincoln                   Did his mother die of pneumonia?     no   \n",
              "\n",
              "  DifficultyFromQuestioner DifficultyFromAnswerer  ArticleFile  \n",
              "0                     easy                   easy  S08_set3_a4  \n",
              "1                     easy                   easy  S08_set3_a4  \n",
              "2                     easy                 medium  S08_set3_a4  \n",
              "3                     easy                   easy  S08_set3_a4  \n",
              "4                     easy                 medium  S08_set3_a4  "
            ],
            "text/html": [
              "\n",
              "  <div id=\"df-5ab46e19-7528-420a-a1ab-ca175d5d1966\" class=\"colab-df-container\">\n",
              "    <div>\n",
              "<style scoped>\n",
              "    .dataframe tbody tr th:only-of-type {\n",
              "        vertical-align: middle;\n",
              "    }\n",
              "\n",
              "    .dataframe tbody tr th {\n",
              "        vertical-align: top;\n",
              "    }\n",
              "\n",
              "    .dataframe thead th {\n",
              "        text-align: right;\n",
              "    }\n",
              "</style>\n",
              "<table border=\"1\" class=\"dataframe\">\n",
              "  <thead>\n",
              "    <tr style=\"text-align: right;\">\n",
              "      <th></th>\n",
              "      <th>ArticleTitle</th>\n",
              "      <th>Question</th>\n",
              "      <th>Answer</th>\n",
              "      <th>DifficultyFromQuestioner</th>\n",
              "      <th>DifficultyFromAnswerer</th>\n",
              "      <th>ArticleFile</th>\n",
              "    </tr>\n",
              "  </thead>\n",
              "  <tbody>\n",
              "    <tr>\n",
              "      <th>0</th>\n",
              "      <td>Abraham_Lincoln</td>\n",
              "      <td>Was Abraham Lincoln the sixteenth President of...</td>\n",
              "      <td>yes</td>\n",
              "      <td>easy</td>\n",
              "      <td>easy</td>\n",
              "      <td>S08_set3_a4</td>\n",
              "    </tr>\n",
              "    <tr>\n",
              "      <th>1</th>\n",
              "      <td>Abraham_Lincoln</td>\n",
              "      <td>Was Abraham Lincoln the sixteenth President of...</td>\n",
              "      <td>Yes.</td>\n",
              "      <td>easy</td>\n",
              "      <td>easy</td>\n",
              "      <td>S08_set3_a4</td>\n",
              "    </tr>\n",
              "    <tr>\n",
              "      <th>2</th>\n",
              "      <td>Abraham_Lincoln</td>\n",
              "      <td>Did Lincoln sign the National Banking Act of 1...</td>\n",
              "      <td>yes</td>\n",
              "      <td>easy</td>\n",
              "      <td>medium</td>\n",
              "      <td>S08_set3_a4</td>\n",
              "    </tr>\n",
              "    <tr>\n",
              "      <th>3</th>\n",
              "      <td>Abraham_Lincoln</td>\n",
              "      <td>Did Lincoln sign the National Banking Act of 1...</td>\n",
              "      <td>Yes.</td>\n",
              "      <td>easy</td>\n",
              "      <td>easy</td>\n",
              "      <td>S08_set3_a4</td>\n",
              "    </tr>\n",
              "    <tr>\n",
              "      <th>4</th>\n",
              "      <td>Abraham_Lincoln</td>\n",
              "      <td>Did his mother die of pneumonia?</td>\n",
              "      <td>no</td>\n",
              "      <td>easy</td>\n",
              "      <td>medium</td>\n",
              "      <td>S08_set3_a4</td>\n",
              "    </tr>\n",
              "  </tbody>\n",
              "</table>\n",
              "</div>\n",
              "    <div class=\"colab-df-buttons\">\n",
              "\n",
              "  <div class=\"colab-df-container\">\n",
              "    <button class=\"colab-df-convert\" onclick=\"convertToInteractive('df-5ab46e19-7528-420a-a1ab-ca175d5d1966')\"\n",
              "            title=\"Convert this dataframe to an interactive table.\"\n",
              "            style=\"display:none;\">\n",
              "\n",
              "  <svg xmlns=\"http://www.w3.org/2000/svg\" height=\"24px\" viewBox=\"0 -960 960 960\">\n",
              "    <path d=\"M120-120v-720h720v720H120Zm60-500h600v-160H180v160Zm220 220h160v-160H400v160Zm0 220h160v-160H400v160ZM180-400h160v-160H180v160Zm440 0h160v-160H620v160ZM180-180h160v-160H180v160Zm440 0h160v-160H620v160Z\"/>\n",
              "  </svg>\n",
              "    </button>\n",
              "\n",
              "  <style>\n",
              "    .colab-df-container {\n",
              "      display:flex;\n",
              "      gap: 12px;\n",
              "    }\n",
              "\n",
              "    .colab-df-convert {\n",
              "      background-color: #E8F0FE;\n",
              "      border: none;\n",
              "      border-radius: 50%;\n",
              "      cursor: pointer;\n",
              "      display: none;\n",
              "      fill: #1967D2;\n",
              "      height: 32px;\n",
              "      padding: 0 0 0 0;\n",
              "      width: 32px;\n",
              "    }\n",
              "\n",
              "    .colab-df-convert:hover {\n",
              "      background-color: #E2EBFA;\n",
              "      box-shadow: 0px 1px 2px rgba(60, 64, 67, 0.3), 0px 1px 3px 1px rgba(60, 64, 67, 0.15);\n",
              "      fill: #174EA6;\n",
              "    }\n",
              "\n",
              "    .colab-df-buttons div {\n",
              "      margin-bottom: 4px;\n",
              "    }\n",
              "\n",
              "    [theme=dark] .colab-df-convert {\n",
              "      background-color: #3B4455;\n",
              "      fill: #D2E3FC;\n",
              "    }\n",
              "\n",
              "    [theme=dark] .colab-df-convert:hover {\n",
              "      background-color: #434B5C;\n",
              "      box-shadow: 0px 1px 3px 1px rgba(0, 0, 0, 0.15);\n",
              "      filter: drop-shadow(0px 1px 2px rgba(0, 0, 0, 0.3));\n",
              "      fill: #FFFFFF;\n",
              "    }\n",
              "  </style>\n",
              "\n",
              "    <script>\n",
              "      const buttonEl =\n",
              "        document.querySelector('#df-5ab46e19-7528-420a-a1ab-ca175d5d1966 button.colab-df-convert');\n",
              "      buttonEl.style.display =\n",
              "        google.colab.kernel.accessAllowed ? 'block' : 'none';\n",
              "\n",
              "      async function convertToInteractive(key) {\n",
              "        const element = document.querySelector('#df-5ab46e19-7528-420a-a1ab-ca175d5d1966');\n",
              "        const dataTable =\n",
              "          await google.colab.kernel.invokeFunction('convertToInteractive',\n",
              "                                                    [key], {});\n",
              "        if (!dataTable) return;\n",
              "\n",
              "        const docLinkHtml = 'Like what you see? Visit the ' +\n",
              "          '<a target=\"_blank\" href=https://colab.research.google.com/notebooks/data_table.ipynb>data table notebook</a>'\n",
              "          + ' to learn more about interactive tables.';\n",
              "        element.innerHTML = '';\n",
              "        dataTable['output_type'] = 'display_data';\n",
              "        await google.colab.output.renderOutput(dataTable, element);\n",
              "        const docLink = document.createElement('div');\n",
              "        docLink.innerHTML = docLinkHtml;\n",
              "        element.appendChild(docLink);\n",
              "      }\n",
              "    </script>\n",
              "  </div>\n",
              "\n",
              "\n",
              "    <div id=\"df-7eee18ec-3a25-4660-87b2-7cc755259322\">\n",
              "      <button class=\"colab-df-quickchart\" onclick=\"quickchart('df-7eee18ec-3a25-4660-87b2-7cc755259322')\"\n",
              "                title=\"Suggest charts\"\n",
              "                style=\"display:none;\">\n",
              "\n",
              "<svg xmlns=\"http://www.w3.org/2000/svg\" height=\"24px\"viewBox=\"0 0 24 24\"\n",
              "     width=\"24px\">\n",
              "    <g>\n",
              "        <path d=\"M19 3H5c-1.1 0-2 .9-2 2v14c0 1.1.9 2 2 2h14c1.1 0 2-.9 2-2V5c0-1.1-.9-2-2-2zM9 17H7v-7h2v7zm4 0h-2V7h2v10zm4 0h-2v-4h2v4z\"/>\n",
              "    </g>\n",
              "</svg>\n",
              "      </button>\n",
              "\n",
              "<style>\n",
              "  .colab-df-quickchart {\n",
              "      --bg-color: #E8F0FE;\n",
              "      --fill-color: #1967D2;\n",
              "      --hover-bg-color: #E2EBFA;\n",
              "      --hover-fill-color: #174EA6;\n",
              "      --disabled-fill-color: #AAA;\n",
              "      --disabled-bg-color: #DDD;\n",
              "  }\n",
              "\n",
              "  [theme=dark] .colab-df-quickchart {\n",
              "      --bg-color: #3B4455;\n",
              "      --fill-color: #D2E3FC;\n",
              "      --hover-bg-color: #434B5C;\n",
              "      --hover-fill-color: #FFFFFF;\n",
              "      --disabled-bg-color: #3B4455;\n",
              "      --disabled-fill-color: #666;\n",
              "  }\n",
              "\n",
              "  .colab-df-quickchart {\n",
              "    background-color: var(--bg-color);\n",
              "    border: none;\n",
              "    border-radius: 50%;\n",
              "    cursor: pointer;\n",
              "    display: none;\n",
              "    fill: var(--fill-color);\n",
              "    height: 32px;\n",
              "    padding: 0;\n",
              "    width: 32px;\n",
              "  }\n",
              "\n",
              "  .colab-df-quickchart:hover {\n",
              "    background-color: var(--hover-bg-color);\n",
              "    box-shadow: 0 1px 2px rgba(60, 64, 67, 0.3), 0 1px 3px 1px rgba(60, 64, 67, 0.15);\n",
              "    fill: var(--button-hover-fill-color);\n",
              "  }\n",
              "\n",
              "  .colab-df-quickchart-complete:disabled,\n",
              "  .colab-df-quickchart-complete:disabled:hover {\n",
              "    background-color: var(--disabled-bg-color);\n",
              "    fill: var(--disabled-fill-color);\n",
              "    box-shadow: none;\n",
              "  }\n",
              "\n",
              "  .colab-df-spinner {\n",
              "    border: 2px solid var(--fill-color);\n",
              "    border-color: transparent;\n",
              "    border-bottom-color: var(--fill-color);\n",
              "    animation:\n",
              "      spin 1s steps(1) infinite;\n",
              "  }\n",
              "\n",
              "  @keyframes spin {\n",
              "    0% {\n",
              "      border-color: transparent;\n",
              "      border-bottom-color: var(--fill-color);\n",
              "      border-left-color: var(--fill-color);\n",
              "    }\n",
              "    20% {\n",
              "      border-color: transparent;\n",
              "      border-left-color: var(--fill-color);\n",
              "      border-top-color: var(--fill-color);\n",
              "    }\n",
              "    30% {\n",
              "      border-color: transparent;\n",
              "      border-left-color: var(--fill-color);\n",
              "      border-top-color: var(--fill-color);\n",
              "      border-right-color: var(--fill-color);\n",
              "    }\n",
              "    40% {\n",
              "      border-color: transparent;\n",
              "      border-right-color: var(--fill-color);\n",
              "      border-top-color: var(--fill-color);\n",
              "    }\n",
              "    60% {\n",
              "      border-color: transparent;\n",
              "      border-right-color: var(--fill-color);\n",
              "    }\n",
              "    80% {\n",
              "      border-color: transparent;\n",
              "      border-right-color: var(--fill-color);\n",
              "      border-bottom-color: var(--fill-color);\n",
              "    }\n",
              "    90% {\n",
              "      border-color: transparent;\n",
              "      border-bottom-color: var(--fill-color);\n",
              "    }\n",
              "  }\n",
              "</style>\n",
              "\n",
              "      <script>\n",
              "        async function quickchart(key) {\n",
              "          const quickchartButtonEl =\n",
              "            document.querySelector('#' + key + ' button');\n",
              "          quickchartButtonEl.disabled = true;  // To prevent multiple clicks.\n",
              "          quickchartButtonEl.classList.add('colab-df-spinner');\n",
              "          try {\n",
              "            const charts = await google.colab.kernel.invokeFunction(\n",
              "                'suggestCharts', [key], {});\n",
              "          } catch (error) {\n",
              "            console.error('Error during call to suggestCharts:', error);\n",
              "          }\n",
              "          quickchartButtonEl.classList.remove('colab-df-spinner');\n",
              "          quickchartButtonEl.classList.add('colab-df-quickchart-complete');\n",
              "        }\n",
              "        (() => {\n",
              "          let quickchartButtonEl =\n",
              "            document.querySelector('#df-7eee18ec-3a25-4660-87b2-7cc755259322 button');\n",
              "          quickchartButtonEl.style.display =\n",
              "            google.colab.kernel.accessAllowed ? 'block' : 'none';\n",
              "        })();\n",
              "      </script>\n",
              "    </div>\n",
              "\n",
              "    </div>\n",
              "  </div>\n"
            ],
            "application/vnd.google.colaboratory.intrinsic+json": {
              "type": "dataframe",
              "variable_name": "df",
              "summary": "{\n  \"name\": \"df\",\n  \"rows\": 1715,\n  \"fields\": [\n    {\n      \"column\": \"ArticleTitle\",\n      \"properties\": {\n        \"dtype\": \"category\",\n        \"num_unique_values\": 38,\n        \"samples\": [\n          \"Theodore_Roosevelt\",\n          \"Uruguay\",\n          \"beetle\"\n        ],\n        \"semantic_type\": \"\",\n        \"description\": \"\"\n      }\n    },\n    {\n      \"column\": \"Question\",\n      \"properties\": {\n        \"dtype\": \"string\",\n        \"num_unique_values\": 1032,\n        \"samples\": [\n          \"Can beetles be found in almost all habitats?\",\n          \"Had his thermometer 100 for the freezing point of water and 0 for the boiling point ?\",\n          \"Is the capital city helsinki?\"\n        ],\n        \"semantic_type\": \"\",\n        \"description\": \"\"\n      }\n    },\n    {\n      \"column\": \"Answer\",\n      \"properties\": {\n        \"dtype\": \"category\",\n        \"num_unique_values\": 762,\n        \"samples\": [\n          \"Angola\",\n          \"between 32 and 68 kilograms \",\n          \"Yes he did\"\n        ],\n        \"semantic_type\": \"\",\n        \"description\": \"\"\n      }\n    },\n    {\n      \"column\": \"DifficultyFromQuestioner\",\n      \"properties\": {\n        \"dtype\": \"category\",\n        \"num_unique_values\": 4,\n        \"samples\": [\n          \"medium\",\n          \"S08_set3_a10\",\n          \"easy\"\n        ],\n        \"semantic_type\": \"\",\n        \"description\": \"\"\n      }\n    },\n    {\n      \"column\": \"DifficultyFromAnswerer\",\n      \"properties\": {\n        \"dtype\": \"category\",\n        \"num_unique_values\": 5,\n        \"samples\": [\n          \"medium\",\n          \"too easy\",\n          \"hard\"\n        ],\n        \"semantic_type\": \"\",\n        \"description\": \"\"\n      }\n    },\n    {\n      \"column\": \"ArticleFile\",\n      \"properties\": {\n        \"dtype\": \"category\",\n        \"num_unique_values\": 37,\n        \"samples\": [\n          \"S08_set4_a1\",\n          \"S08_set1_a6\",\n          \"S08_set1_a8\"\n        ],\n        \"semantic_type\": \"\",\n        \"description\": \"\"\n      }\n    }\n  ]\n}"
            }
          },
          "metadata": {},
          "execution_count": 4
        }
      ],
      "source": [
        "import pandas as pd\n",
        "\n",
        "df = pd.read_csv(\"/content/S08_question_answer_pairs.txt\", sep=\"\\t\")\n",
        "df.head()"
      ]
    },
    {
      "cell_type": "markdown",
      "source": [
        "## Clean Dataset\n",
        "\n",
        "- **Purpose:** Remove duplicate rows and normalize answers.  \n",
        "- **Steps:**\n",
        "  1. Remove duplicates\n",
        "  2. Convert answers to lowercase\n",
        "  3. Remove trailing periods  \n",
        "\n",
        "- **Input:** `df` from previous cell  \n",
        "- **Output:** Cleaned DataFrame with normalized answers\n"
      ],
      "metadata": {
        "id": "DUAQC2bKc1cq"
      }
    },
    {
      "cell_type": "markdown",
      "source": [
        "## Clean & Normalize Answers\n",
        "\n",
        "- **Purpose:** Prepare the dataset for quiz generation.  \n",
        "- **Steps:**\n",
        "  1. Remove duplicate rows from the dataset.  \n",
        "  2. Convert all answers to lowercase for consistency.  \n",
        "  3. Remove trailing periods from answers.  \n",
        "\n",
        "- **Input:** DataFrame `df` from previous cell.  \n",
        "- **Output:** Cleaned DataFrame ready for use in quizzes.\n"
      ],
      "metadata": {
        "id": "A99tZjKGdTlH"
      }
    },
    {
      "cell_type": "code",
      "execution_count": null,
      "metadata": {
        "id": "cRMrhiZrpn-j"
      },
      "outputs": [],
      "source": [
        "df = df.drop_duplicates()\n",
        "df['Answer'] = df['Answer'].str.lower().str.strip('.')\n"
      ]
    },
    {
      "cell_type": "code",
      "execution_count": null,
      "metadata": {
        "colab": {
          "base_uri": "https://localhost:8080/"
        },
        "id": "d-x9f6qBp8Pr",
        "outputId": "cc981c64-6f8c-4b5d-a71a-8ad17b193189"
      },
      "outputs": [
        {
          "output_type": "stream",
          "name": "stdout",
          "text": [
            "Q: Where was Grover Cleveland married?\n",
            "Answer: in the white house\n",
            "---\n",
            "Q: What is surplus killing?\n",
            "Answer: the killing of several prey animals too numerous to eat at one sitting\n",
            "---\n",
            "Q: What is The Remarkable Millard Fillmore?\n",
            "Answer: in 2007, george pendle wrote the remarkable millard fillmore, a fake biography based on real events that happened in fillmore's life\n",
            "---\n",
            "Q: What did Coolidge address in 1924?\n",
            "Answer: nan\n",
            "---\n",
            "Q: What happened in the election of 1816?\n",
            "Answer: monroe was elected president\n",
            "---\n"
          ]
        }
      ],
      "source": [
        "sample = df.sample(5)\n",
        "for i, row in sample.iterrows():\n",
        "    print(\"Q:\", row[\"Question\"])\n",
        "    print(\"Answer:\", row[\"Answer\"])\n",
        "    print(\"---\")"
      ]
    },
    {
      "cell_type": "code",
      "execution_count": null,
      "metadata": {
        "colab": {
          "base_uri": "https://localhost:8080/"
        },
        "id": "-SZABplUqDQT",
        "outputId": "fb1760e3-3e9a-49f1-89d5-17ebde3930be"
      },
      "outputs": [
        {
          "output_type": "stream",
          "name": "stdout",
          "text": [
            "['ArticleTitle', 'Question', 'Answer', 'DifficultyFromQuestioner', 'DifficultyFromAnswerer', 'ArticleFile']\n"
          ]
        }
      ],
      "source": [
        "print(df.columns.tolist())\n"
      ]
    },
    {
      "cell_type": "code",
      "execution_count": null,
      "metadata": {
        "colab": {
          "base_uri": "https://localhost:8080/"
        },
        "id": "8AVT0bo5qiwr",
        "outputId": "a4454a19-ab4d-4ccc-e714-29a4ceb6378e"
      },
      "outputs": [
        {
          "output_type": "stream",
          "name": "stdout",
          "text": [
            "Rows before: 1573 | after removing empty answers: 1362\n"
          ]
        }
      ],
      "source": [
        "import re, pandas as pd\n",
        "\n",
        "# Replace literal 'NULL' strings with empty\n",
        "df = df.replace({'NULL': '', 'nan': ''})\n",
        "\n",
        "# normalize answers\n",
        "def normalize_answer(a):\n",
        "    if pd.isna(a):\n",
        "        return ''   # fixed here (removed /)\n",
        "    s = str(a).strip()\n",
        "    s = re.sub(r'\\.+$', '', s)        # remove trailing dots\n",
        "    s = re.sub(r'\\s+', ' ', s)        # multi-space -> one\n",
        "    return s.lower()\n",
        "\n",
        "df['Answer_norm'] = df['Answer'].apply(normalize_answer)\n",
        "\n",
        "# drop rows with empty answers (if any)\n",
        "before = len(df)\n",
        "df = df[df['Answer_norm'] != ''].copy()\n",
        "print('Rows before:', before, '| after removing empty answers:', len(df))\n"
      ]
    },
    {
      "cell_type": "code",
      "execution_count": null,
      "metadata": {
        "colab": {
          "base_uri": "https://localhost:8080/"
        },
        "id": "9X26Iqd0qm6w",
        "outputId": "3812d967-e1d2-465c-f880-b793796e2ca4"
      },
      "outputs": [
        {
          "output_type": "stream",
          "name": "stdout",
          "text": [
            "Dropped duplicates: 216   Remaining rows: 1146\n"
          ]
        }
      ],
      "source": [
        "before = len(df)\n",
        "df = df.drop_duplicates(subset=['ArticleTitle','Question','Answer_norm'])\n",
        "after = len(df)\n",
        "print('Dropped duplicates:', before - after, '  Remaining rows:', after)\n"
      ]
    },
    {
      "cell_type": "code",
      "execution_count": null,
      "metadata": {
        "colab": {
          "base_uri": "https://localhost:8080/"
        },
        "id": "Kc8ueeYpqrQP",
        "outputId": "c1a8fa5d-012b-41b7-a668-7d1f77325532"
      },
      "outputs": [
        {
          "output_type": "stream",
          "name": "stdout",
          "text": [
            "DiffQ_clean\n",
            "NaN       319\n",
            "hard      300\n",
            "medium    290\n",
            "easy      237\n",
            "Name: count, dtype: int64\n"
          ]
        }
      ],
      "source": [
        "valid = {'easy','medium','hard'}\n",
        "# if exact match else NaN\n",
        "df['DiffQ_clean'] = df['DifficultyFromQuestioner'].where(df['DifficultyFromQuestioner'].isin(valid))\n",
        "print(df['DiffQ_clean'].value_counts(dropna=False))\n"
      ]
    },
    {
      "cell_type": "code",
      "execution_count": null,
      "metadata": {
        "colab": {
          "base_uri": "https://localhost:8080/",
          "height": 515
        },
        "id": "TiYtWp1Nqx1h",
        "outputId": "c87ee33b-f5b9-4d3e-a71a-01e33167ac2d"
      },
      "outputs": [
        {
          "output_type": "display_data",
          "data": {
            "text/plain": [
              "<Figure size 640x480 with 1 Axes>"
            ],
            "image/png": "[encoded data removed]"
          },
          "metadata": {}
        }
      ],
      "source": [
        "import matplotlib.pyplot as plt\n",
        "counts = df['DiffQ_clean'].value_counts(dropna=False).sort_index()\n",
        "counts.plot(kind='bar')\n",
        "plt.title('Question difficulty (from questioner)')\n",
        "plt.xlabel('Difficulty'); plt.ylabel('Count')\n",
        "plt.show()\n"
      ]
    },
    {
      "cell_type": "code",
      "execution_count": null,
      "metadata": {
        "colab": {
          "base_uri": "https://localhost:8080/",
          "height": 363
        },
        "id": "xVjgA7j9qzkH",
        "outputId": "40a44c99-aae3-41af-9447-44045822d2d0"
      },
      "outputs": [
        {
          "output_type": "execute_result",
          "data": {
            "text/plain": [
              "                                            question  \\\n",
              "0                What is the first word on the page?   \n",
              "1        What method of locomotion do Kangaroos Use?   \n",
              "2  What caused Wilson to ask Congress to declare ...   \n",
              "3                                Are penguins birds?   \n",
              "4           How much time to penguins spend on land?   \n",
              "5  When did the Gettysburg address argue that Ame...   \n",
              "6  How much of the population is of white Europea...   \n",
              "7  Who was the first gymnast to score a perfect \"...   \n",
              "8    How heavy was the largest polar bear on record?   \n",
              "9                     How much does a leopard weigh?   \n",
              "\n",
              "                                             options  \\\n",
              "0  [penguins, john alexander mcclernand, james, g...   \n",
              "1  [the town of plymouth notch, no, it is not, mo...   \n",
              "2  [massachus08_setts, 1846, german began unrestr...   \n",
              "3                         [yes, no, maybe, not sure]   \n",
              "4  [the new kingdom (c.1550&#8722;1070 bc), i don...   \n",
              "5  [nelson rockefeller, roadkill deaths, papillae...   \n",
              "6  [bob dole, approximately 88% of its population...   \n",
              "7  [nadia comăneci, july 4 1872, massachus08_sett...   \n",
              "8  [a female turtle, he allegedly weighed 1002 kg...   \n",
              "9  [(because of ambiguity) - 28-90kg, staunton, v...   \n",
              "\n",
              "                                             correct difficulty  \\\n",
              "0                                              james       easy   \n",
              "1                                            hopping     medium   \n",
              "2        german began unrestricted submarine warfare       hard   \n",
              "3                                                yes       easy   \n",
              "4                                 half of their life       hard   \n",
              "5                                               1776       hard   \n",
              "6  approximately 88% of its population are of pre...     medium   \n",
              "7                                     nadia comăneci     medium   \n",
              "8                       he allegedly weighed 1002 kg     medium   \n",
              "9                   (because of ambiguity) - 28-90kg     medium   \n",
              "\n",
              "           article  \n",
              "0     James_Monroe  \n",
              "1         kangaroo  \n",
              "2   Woodrow_Wilson  \n",
              "3          penguin  \n",
              "4          penguin  \n",
              "5  Abraham_Lincoln  \n",
              "6          Uruguay  \n",
              "7          Romania  \n",
              "8       polar_bear  \n",
              "9          leopard  "
            ],
            "text/html": [
              "\n",
              "  <div id=\"df-a8f68a7b-16a9-4870-9caa-9a6e7636af6b\" class=\"colab-df-container\">\n",
              "    <div>\n",
              "<style scoped>\n",
              "    .dataframe tbody tr th:only-of-type {\n",
              "        vertical-align: middle;\n",
              "    }\n",
              "\n",
              "    .dataframe tbody tr th {\n",
              "        vertical-align: top;\n",
              "    }\n",
              "\n",
              "    .dataframe thead th {\n",
              "        text-align: right;\n",
              "    }\n",
              "</style>\n",
              "<table border=\"1\" class=\"dataframe\">\n",
              "  <thead>\n",
              "    <tr style=\"text-align: right;\">\n",
              "      <th></th>\n",
              "      <th>question</th>\n",
              "      <th>options</th>\n",
              "      <th>correct</th>\n",
              "      <th>difficulty</th>\n",
              "      <th>article</th>\n",
              "    </tr>\n",
              "  </thead>\n",
              "  <tbody>\n",
              "    <tr>\n",
              "      <th>0</th>\n",
              "      <td>What is the first word on the page?</td>\n",
              "      <td>[penguins, john alexander mcclernand, james, g...</td>\n",
              "      <td>james</td>\n",
              "      <td>easy</td>\n",
              "      <td>James_Monroe</td>\n",
              "    </tr>\n",
              "    <tr>\n",
              "      <th>1</th>\n",
              "      <td>What method of locomotion do Kangaroos Use?</td>\n",
              "      <td>[the town of plymouth notch, no, it is not, mo...</td>\n",
              "      <td>hopping</td>\n",
              "      <td>medium</td>\n",
              "      <td>kangaroo</td>\n",
              "    </tr>\n",
              "    <tr>\n",
              "      <th>2</th>\n",
              "      <td>What caused Wilson to ask Congress to declare ...</td>\n",
              "      <td>[massachus08_setts, 1846, german began unrestr...</td>\n",
              "      <td>german began unrestricted submarine warfare</td>\n",
              "      <td>hard</td>\n",
              "      <td>Woodrow_Wilson</td>\n",
              "    </tr>\n",
              "    <tr>\n",
              "      <th>3</th>\n",
              "      <td>Are penguins birds?</td>\n",
              "      <td>[yes, no, maybe, not sure]</td>\n",
              "      <td>yes</td>\n",
              "      <td>easy</td>\n",
              "      <td>penguin</td>\n",
              "    </tr>\n",
              "    <tr>\n",
              "      <th>4</th>\n",
              "      <td>How much time to penguins spend on land?</td>\n",
              "      <td>[the new kingdom (c.1550&amp;#8722;1070 bc), i don...</td>\n",
              "      <td>half of their life</td>\n",
              "      <td>hard</td>\n",
              "      <td>penguin</td>\n",
              "    </tr>\n",
              "    <tr>\n",
              "      <th>5</th>\n",
              "      <td>When did the Gettysburg address argue that Ame...</td>\n",
              "      <td>[nelson rockefeller, roadkill deaths, papillae...</td>\n",
              "      <td>1776</td>\n",
              "      <td>hard</td>\n",
              "      <td>Abraham_Lincoln</td>\n",
              "    </tr>\n",
              "    <tr>\n",
              "      <th>6</th>\n",
              "      <td>How much of the population is of white Europea...</td>\n",
              "      <td>[bob dole, approximately 88% of its population...</td>\n",
              "      <td>approximately 88% of its population are of pre...</td>\n",
              "      <td>medium</td>\n",
              "      <td>Uruguay</td>\n",
              "    </tr>\n",
              "    <tr>\n",
              "      <th>7</th>\n",
              "      <td>Who was the first gymnast to score a perfect \"...</td>\n",
              "      <td>[nadia comăneci, july 4 1872, massachus08_sett...</td>\n",
              "      <td>nadia comăneci</td>\n",
              "      <td>medium</td>\n",
              "      <td>Romania</td>\n",
              "    </tr>\n",
              "    <tr>\n",
              "      <th>8</th>\n",
              "      <td>How heavy was the largest polar bear on record?</td>\n",
              "      <td>[a female turtle, he allegedly weighed 1002 kg...</td>\n",
              "      <td>he allegedly weighed 1002 kg</td>\n",
              "      <td>medium</td>\n",
              "      <td>polar_bear</td>\n",
              "    </tr>\n",
              "    <tr>\n",
              "      <th>9</th>\n",
              "      <td>How much does a leopard weigh?</td>\n",
              "      <td>[(because of ambiguity) - 28-90kg, staunton, v...</td>\n",
              "      <td>(because of ambiguity) - 28-90kg</td>\n",
              "      <td>medium</td>\n",
              "      <td>leopard</td>\n",
              "    </tr>\n",
              "  </tbody>\n",
              "</table>\n",
              "</div>\n",
              "    <div class=\"colab-df-buttons\">\n",
              "\n",
              "  <div class=\"colab-df-container\">\n",
              "    <button class=\"colab-df-convert\" onclick=\"convertToInteractive('df-a8f68a7b-16a9-4870-9caa-9a6e7636af6b')\"\n",
              "            title=\"Convert this dataframe to an interactive table.\"\n",
              "            style=\"display:none;\">\n",
              "\n",
              "  <svg xmlns=\"http://www.w3.org/2000/svg\" height=\"24px\" viewBox=\"0 -960 960 960\">\n",
              "    <path d=\"M120-120v-720h720v720H120Zm60-500h600v-160H180v160Zm220 220h160v-160H400v160Zm0 220h160v-160H400v160ZM180-400h160v-160H180v160Zm440 0h160v-160H620v160ZM180-180h160v-160H180v160Zm440 0h160v-160H620v160Z\"/>\n",
              "  </svg>\n",
              "    </button>\n",
              "\n",
              "  <style>\n",
              "    .colab-df-container {\n",
              "      display:flex;\n",
              "      gap: 12px;\n",
              "    }\n",
              "\n",
              "    .colab-df-convert {\n",
              "      background-color: #E8F0FE;\n",
              "      border: none;\n",
              "      border-radius: 50%;\n",
              "      cursor: pointer;\n",
              "      display: none;\n",
              "      fill: #1967D2;\n",
              "      height: 32px;\n",
              "      padding: 0 0 0 0;\n",
              "      width: 32px;\n",
              "    }\n",
              "\n",
              "    .colab-df-convert:hover {\n",
              "      background-color: #E2EBFA;\n",
              "      box-shadow: 0px 1px 2px rgba(60, 64, 67, 0.3), 0px 1px 3px 1px rgba(60, 64, 67, 0.15);\n",
              "      fill: #174EA6;\n",
              "    }\n",
              "\n",
              "    .colab-df-buttons div {\n",
              "      margin-bottom: 4px;\n",
              "    }\n",
              "\n",
              "    [theme=dark] .colab-df-convert {\n",
              "      background-color: #3B4455;\n",
              "      fill: #D2E3FC;\n",
              "    }\n",
              "\n",
              "    [theme=dark] .colab-df-convert:hover {\n",
              "      background-color: #434B5C;\n",
              "      box-shadow: 0px 1px 3px 1px rgba(0, 0, 0, 0.15);\n",
              "      filter: drop-shadow(0px 1px 2px rgba(0, 0, 0, 0.3));\n",
              "      fill: #FFFFFF;\n",
              "    }\n",
              "  </style>\n",
              "\n",
              "    <script>\n",
              "      const buttonEl =\n",
              "        document.querySelector('#df-a8f68a7b-16a9-4870-9caa-9a6e7636af6b button.colab-df-convert');\n",
              "      buttonEl.style.display =\n",
              "        google.colab.kernel.accessAllowed ? 'block' : 'none';\n",
              "\n",
              "      async function convertToInteractive(key) {\n",
              "        const element = document.querySelector('#df-a8f68a7b-16a9-4870-9caa-9a6e7636af6b');\n",
              "        const dataTable =\n",
              "          await google.colab.kernel.invokeFunction('convertToInteractive',\n",
              "                                                    [key], {});\n",
              "        if (!dataTable) return;\n",
              "\n",
              "        const docLinkHtml = 'Like what you see? Visit the ' +\n",
              "          '<a target=\"_blank\" href=https://colab.research.google.com/notebooks/data_table.ipynb>data table notebook</a>'\n",
              "          + ' to learn more about interactive tables.';\n",
              "        element.innerHTML = '';\n",
              "        dataTable['output_type'] = 'display_data';\n",
              "        await google.colab.output.renderOutput(dataTable, element);\n",
              "        const docLink = document.createElement('div');\n",
              "        docLink.innerHTML = docLinkHtml;\n",
              "        element.appendChild(docLink);\n",
              "      }\n",
              "    </script>\n",
              "  </div>\n",
              "\n",
              "\n",
              "    <div id=\"df-617bceb2-b64b-41cf-96b5-a5b9b1395fc3\">\n",
              "      <button class=\"colab-df-quickchart\" onclick=\"quickchart('df-617bceb2-b64b-41cf-96b5-a5b9b1395fc3')\"\n",
              "                title=\"Suggest charts\"\n",
              "                style=\"display:none;\">\n",
              "\n",
              "<svg xmlns=\"http://www.w3.org/2000/svg\" height=\"24px\"viewBox=\"0 0 24 24\"\n",
              "     width=\"24px\">\n",
              "    <g>\n",
              "        <path d=\"M19 3H5c-1.1 0-2 .9-2 2v14c0 1.1.9 2 2 2h14c1.1 0 2-.9 2-2V5c0-1.1-.9-2-2-2zM9 17H7v-7h2v7zm4 0h-2V7h2v10zm4 0h-2v-4h2v4z\"/>\n",
              "    </g>\n",
              "</svg>\n",
              "      </button>\n",
              "\n",
              "<style>\n",
              "  .colab-df-quickchart {\n",
              "      --bg-color: #E8F0FE;\n",
              "      --fill-color: #1967D2;\n",
              "      --hover-bg-color: #E2EBFA;\n",
              "      --hover-fill-color: #174EA6;\n",
              "      --disabled-fill-color: #AAA;\n",
              "      --disabled-bg-color: #DDD;\n",
              "  }\n",
              "\n",
              "  [theme=dark] .colab-df-quickchart {\n",
              "      --bg-color: #3B4455;\n",
              "      --fill-color: #D2E3FC;\n",
              "      --hover-bg-color: #434B5C;\n",
              "      --hover-fill-color: #FFFFFF;\n",
              "      --disabled-bg-color: #3B4455;\n",
              "      --disabled-fill-color: #666;\n",
              "  }\n",
              "\n",
              "  .colab-df-quickchart {\n",
              "    background-color: var(--bg-color);\n",
              "    border: none;\n",
              "    border-radius: 50%;\n",
              "    cursor: pointer;\n",
              "    display: none;\n",
              "    fill: var(--fill-color);\n",
              "    height: 32px;\n",
              "    padding: 0;\n",
              "    width: 32px;\n",
              "  }\n",
              "\n",
              "  .colab-df-quickchart:hover {\n",
              "    background-color: var(--hover-bg-color);\n",
              "    box-shadow: 0 1px 2px rgba(60, 64, 67, 0.3), 0 1px 3px 1px rgba(60, 64, 67, 0.15);\n",
              "    fill: var(--button-hover-fill-color);\n",
              "  }\n",
              "\n",
              "  .colab-df-quickchart-complete:disabled,\n",
              "  .colab-df-quickchart-complete:disabled:hover {\n",
              "    background-color: var(--disabled-bg-color);\n",
              "    fill: var(--disabled-fill-color);\n",
              "    box-shadow: none;\n",
              "  }\n",
              "\n",
              "  .colab-df-spinner {\n",
              "    border: 2px solid var(--fill-color);\n",
              "    border-color: transparent;\n",
              "    border-bottom-color: var(--fill-color);\n",
              "    animation:\n",
              "      spin 1s steps(1) infinite;\n",
              "  }\n",
              "\n",
              "  @keyframes spin {\n",
              "    0% {\n",
              "      border-color: transparent;\n",
              "      border-bottom-color: var(--fill-color);\n",
              "      border-left-color: var(--fill-color);\n",
              "    }\n",
              "    20% {\n",
              "      border-color: transparent;\n",
              "      border-left-color: var(--fill-color);\n",
              "      border-top-color: var(--fill-color);\n",
              "    }\n",
              "    30% {\n",
              "      border-color: transparent;\n",
              "      border-left-color: var(--fill-color);\n",
              "      border-top-color: var(--fill-color);\n",
              "      border-right-color: var(--fill-color);\n",
              "    }\n",
              "    40% {\n",
              "      border-color: transparent;\n",
              "      border-right-color: var(--fill-color);\n",
              "      border-top-color: var(--fill-color);\n",
              "    }\n",
              "    60% {\n",
              "      border-color: transparent;\n",
              "      border-right-color: var(--fill-color);\n",
              "    }\n",
              "    80% {\n",
              "      border-color: transparent;\n",
              "      border-right-color: var(--fill-color);\n",
              "      border-bottom-color: var(--fill-color);\n",
              "    }\n",
              "    90% {\n",
              "      border-color: transparent;\n",
              "      border-bottom-color: var(--fill-color);\n",
              "    }\n",
              "  }\n",
              "</style>\n",
              "\n",
              "      <script>\n",
              "        async function quickchart(key) {\n",
              "          const quickchartButtonEl =\n",
              "            document.querySelector('#' + key + ' button');\n",
              "          quickchartButtonEl.disabled = true;  // To prevent multiple clicks.\n",
              "          quickchartButtonEl.classList.add('colab-df-spinner');\n",
              "          try {\n",
              "            const charts = await google.colab.kernel.invokeFunction(\n",
              "                'suggestCharts', [key], {});\n",
              "          } catch (error) {\n",
              "            console.error('Error during call to suggestCharts:', error);\n",
              "          }\n",
              "          quickchartButtonEl.classList.remove('colab-df-spinner');\n",
              "          quickchartButtonEl.classList.add('colab-df-quickchart-complete');\n",
              "        }\n",
              "        (() => {\n",
              "          let quickchartButtonEl =\n",
              "            document.querySelector('#df-617bceb2-b64b-41cf-96b5-a5b9b1395fc3 button');\n",
              "          quickchartButtonEl.style.display =\n",
              "            google.colab.kernel.accessAllowed ? 'block' : 'none';\n",
              "        })();\n",
              "      </script>\n",
              "    </div>\n",
              "\n",
              "    </div>\n",
              "  </div>\n"
            ],
            "application/vnd.google.colaboratory.intrinsic+json": {
              "type": "dataframe",
              "variable_name": "quiz_df",
              "summary": "{\n  \"name\": \"quiz_df\",\n  \"rows\": 10,\n  \"fields\": [\n    {\n      \"column\": \"question\",\n      \"properties\": {\n        \"dtype\": \"string\",\n        \"num_unique_values\": 10,\n        \"samples\": [\n          \"How heavy was the largest polar bear on record?\",\n          \"What method of locomotion do Kangaroos Use?\",\n          \"When did the Gettysburg address argue that America was born?\"\n        ],\n        \"semantic_type\": \"\",\n        \"description\": \"\"\n      }\n    },\n    {\n      \"column\": \"options\",\n      \"properties\": {\n        \"dtype\": \"object\",\n        \"semantic_type\": \"\",\n        \"description\": \"\"\n      }\n    },\n    {\n      \"column\": \"correct\",\n      \"properties\": {\n        \"dtype\": \"string\",\n        \"num_unique_values\": 10,\n        \"samples\": [\n          \"he allegedly weighed 1002 kg\",\n          \"hopping\",\n          \"1776\"\n        ],\n        \"semantic_type\": \"\",\n        \"description\": \"\"\n      }\n    },\n    {\n      \"column\": \"difficulty\",\n      \"properties\": {\n        \"dtype\": \"category\",\n        \"num_unique_values\": 3,\n        \"samples\": [\n          \"easy\",\n          \"medium\",\n          \"hard\"\n        ],\n        \"semantic_type\": \"\",\n        \"description\": \"\"\n      }\n    },\n    {\n      \"column\": \"article\",\n      \"properties\": {\n        \"dtype\": \"string\",\n        \"num_unique_values\": 9,\n        \"samples\": [\n          \"polar_bear\",\n          \"kangaroo\",\n          \"Uruguay\"\n        ],\n        \"semantic_type\": \"\",\n        \"description\": \"\"\n      }\n    }\n  ]\n}"
            }
          },
          "metadata": {},
          "execution_count": 12
        }
      ],
      "source": [
        "import random\n",
        "rnd = random.Random(42)\n",
        "\n",
        "# pool of possible answers (normalized)\n",
        "answer_pool = df['Answer_norm'].dropna().unique().tolist()\n",
        "\n",
        "def make_options(correct, pool, k=3):\n",
        "    # choose k distractors (not equal to correct)\n",
        "    candidates = [p for p in pool if p != correct and 1 <= len(p) <= 40]\n",
        "    if len(candidates) >= k:\n",
        "        distractors = rnd.sample(candidates, k)\n",
        "    else:\n",
        "        distractors = candidates\n",
        "    opts = [correct] + distractors\n",
        "    rnd.shuffle(opts)\n",
        "    # fill to 4 options if needed\n",
        "    while len(opts) < 4:\n",
        "        opts.append(\"None of the above\")\n",
        "    return opts[:4]\n",
        "\n",
        "def build_quiz(df_in, n=10):\n",
        "    base = df_in.copy()\n",
        "    # prefer rows with known difficulty, else use all\n",
        "    subset = base[base['DiffQ_clean'].isin(['easy','medium','hard'])]\n",
        "    if subset.empty:\n",
        "        subset = base\n",
        "    sample = subset.sample(min(n, len(subset)), random_state=1)\n",
        "    rows = []\n",
        "    for _, r in sample.iterrows():\n",
        "        q = str(r['Question']).strip()\n",
        "        ans = str(r['Answer_norm'])\n",
        "        if ans in ('yes','no'):\n",
        "            options = ['yes','no','maybe','not sure']\n",
        "        else:\n",
        "            options = make_options(ans, answer_pool, k=3)\n",
        "        rows.append({\n",
        "            'question': q,\n",
        "            'options': options,\n",
        "            'correct': ans,\n",
        "            'difficulty': r.get('DiffQ_clean',''),\n",
        "            'article': r.get('ArticleTitle','')\n",
        "        })\n",
        "    return pd.DataFrame(rows)\n",
        "\n",
        "# Generate and show 10 sample MCQs\n",
        "quiz_df = build_quiz(df, n=10)\n",
        "quiz_df.head(10)\n"
      ]
    },
    {
      "cell_type": "markdown",
      "source": [
        "## Build Quiz from Dataset\n",
        "\n",
        "- **Purpose:** Generate multiple-choice questions (MCQs) from cleaned dataset.  \n",
        "- **Steps:**\n",
        "  1. Normalize answers from dataset.  \n",
        "  2. Use `make_options()` to create distractors for each correct answer.  \n",
        "  3. Sample `n` questions (default 10) from dataset, considering difficulty if available.  \n",
        "  4. Return a DataFrame with columns:\n",
        "     - `question` → question text  \n",
        "     - `options` → list of 4 answer choices  \n",
        "     - `correct` → correct answer  \n",
        "     - `difficulty` → easy/medium/hard (if available)  \n",
        "     - `article` → source article (if available)  \n",
        "\n",
        "- **Input:** Cleaned dataset `df`  \n",
        "- **Output:** DataFrame of MCQs ready for the study app\n"
      ],
      "metadata": {
        "id": "KTAw8enEd_2-"
      }
    },
    {
      "cell_type": "code",
      "execution_count": null,
      "metadata": {
        "colab": {
          "base_uri": "https://localhost:8080/"
        },
        "id": "uDKQ1G3Zq5GB",
        "outputId": "d1b81939-938e-4480-ad1e-aa14629ffaee"
      },
      "outputs": [
        {
          "output_type": "stream",
          "name": "stdout",
          "text": [
            "Q1. What is the first word on the page?\n",
            "   A. penguins\n",
            "   B. john alexander mcclernand\n",
            "   C. james\n",
            "   D. grace anna goodhue\n",
            "Answer: james\n",
            "\n",
            "Q2. What method of locomotion do Kangaroos Use?\n",
            "   A. the town of plymouth notch\n",
            "   B. no, it is not\n",
            "   C. more than 2.78 million people\n",
            "   D. hopping\n",
            "Answer: hopping\n",
            "\n",
            "Q3. What caused Wilson to ask Congress to declare war on the Central Powers?\n",
            "   A. massachus08_setts\n",
            "   B. 1846\n",
            "   C. german began unrestricted submarine warfare\n",
            "   D. 23 years\n",
            "Answer: german began unrestricted submarine warfare\n",
            "\n",
            "Q4. Are penguins birds?\n",
            "   A. yes\n",
            "   B. no\n",
            "   C. maybe\n",
            "   D. not sure\n",
            "Answer: yes\n",
            "\n",
            "Q5. How much time to penguins spend on land?\n",
            "   A. the new kingdom (c.1550&#8722;1070 bc)\n",
            "   B. i don't know (semantic ambiguity)\n",
            "   C. half of their life\n",
            "   D. hungarians\n",
            "Answer: half of their life\n",
            "\n"
          ]
        }
      ],
      "source": [
        "for i, r in quiz_df.iterrows():\n",
        "    print(f\"Q{i+1}. {r['question']}\")\n",
        "    for j,opt in enumerate(r['options']):\n",
        "        print(f\"   {chr(65+j)}. {opt}\")\n",
        "    print(\"Answer:\", r['correct'])\n",
        "    print()\n",
        "    if i>=4: break  # show only first 5\n"
      ]
    },
    {
      "cell_type": "markdown",
      "source": [
        "## Save Quiz and Dataset\n",
        "\n",
        "- **Purpose:** Save generated quiz and cleaned QA dataset for submission.  \n",
        "- **Files:**\n",
        "  - `quiz_sample.csv` → 10 sample MCQs generated for the app  \n",
        "  - `qa_clean.csv` → Cleaned question-answer dataset used for quiz generation  \n",
        "- **Colab Download:** Enables downloading the files locally.\n"
      ],
      "metadata": {
        "id": "KHe4MxW6eSj-"
      }
    },
    {
      "cell_type": "code",
      "execution_count": null,
      "metadata": {
        "colab": {
          "base_uri": "https://localhost:8080/",
          "height": 34
        },
        "id": "AgNHuQ6tq8sr",
        "outputId": "b68bc139-44e8-487a-ea24-fe0bbaa65924"
      },
      "outputs": [
        {
          "output_type": "stream",
          "name": "stdout",
          "text": [
            "Saved quiz_sample.csv and qa_clean.csv\n"
          ]
        },
        {
          "output_type": "display_data",
          "data": {
            "text/plain": [
              "<IPython.core.display.Javascript object>"
            ],
            "application/javascript": [
              "\n",
              "    async function download(id, filename, size) {\n",
              "      if (!google.colab.kernel.accessAllowed) {\n",
              "        return;\n",
              "      }\n",
              "      const div = document.createElement('div');\n",
              "      const label = document.createElement('label');\n",
              "      label.textContent = `Downloading \"${filename}\": `;\n",
              "      div.appendChild(label);\n",
              "      const progress = document.createElement('progress');\n",
              "      progress.max = size;\n",
              "      div.appendChild(progress);\n",
              "      document.body.appendChild(div);\n",
              "\n",
              "      const buffers = [];\n",
              "      let downloaded = 0;\n",
              "\n",
              "      const channel = await google.colab.kernel.comms.open(id);\n",
              "      // Send a message to notify the kernel that we're ready.\n",
              "      channel.send({})\n",
              "\n",
              "      for await (const message of channel.messages) {\n",
              "        // Send a message to notify the kernel that we're ready.\n",
              "        channel.send({})\n",
              "        if (message.buffers) {\n",
              "          for (const buffer of message.buffers) {\n",
              "            buffers.push(buffer);\n",
              "            downloaded += buffer.byteLength;\n",
              "            progress.value = downloaded;\n",
              "          }\n",
              "        }\n",
              "      }\n",
              "      const blob = new Blob(buffers, {type: 'application/binary'});\n",
              "      const a = document.createElement('a');\n",
              "      a.href = window.URL.createObjectURL(blob);\n",
              "      a.download = filename;\n",
              "      div.appendChild(a);\n",
              "      a.click();\n",
              "      div.remove();\n",
              "    }\n",
              "  "
            ]
          },
          "metadata": {}
        },
        {
          "output_type": "display_data",
          "data": {
            "text/plain": [
              "<IPython.core.display.Javascript object>"
            ],
            "application/javascript": [
              "download(\"download_18d0a6e4-2d8d-42d2-8e70-adf2ef8d7176\", \"quiz_sample.csv\", 1848)"
            ]
          },
          "metadata": {}
        }
      ],
      "source": [
        "quiz_df.to_csv('quiz_sample.csv', index=False)\n",
        "df.to_csv('qa_clean.csv', index=False)\n",
        "print(\"Saved quiz_sample.csv and qa_clean.csv\")\n",
        "# To download in Colab:\n",
        "from google.colab import file\n",
        "files.download('quiz_sample.csv')   # will prompt download\n"
      ]
    },
    {
      "cell_type": "markdown",
      "source": [
        "##  Generate Study Plan\n",
        "\n",
        "- **Purpose:** Create a study plan based on a topic and available study hours.  \n",
        "- **Logic:**\n",
        "  - Filter questions by topic keyword (`ArticleTitle`)  \n",
        "  - Calculate number of sessions based on `hours` and `session_minutes`  \n",
        "  - Assign ~3 questions per session  \n",
        "- **Output:** DataFrame with sessions, duration, and assigned questions.\n"
      ],
      "metadata": {
        "id": "8avX3LBOeYq7"
      }
    },
    {
      "cell_type": "code",
      "execution_count": null,
      "metadata": {
        "colab": {
          "base_uri": "https://localhost:8080/",
          "height": 175
        },
        "id": "3KZk3VN5rCP7",
        "outputId": "f5c6b71b-07d3-4c00-8d68-4311875a7543"
      },
      "outputs": [
        {
          "output_type": "execute_result",
          "data": {
            "text/plain": [
              "   session  duration_minutes  \\\n",
              "0        1                30   \n",
              "1        2                30   \n",
              "2        3                30   \n",
              "3        4                30   \n",
              "\n",
              "                                           questions  \n",
              "0  [How long was Lincoln's legal Career?, How man...  \n",
              "1  [Did lincoln have 18 months of schooling?, Do ...  \n",
              "2  [Why did Lincoln issue the Emancipation Procla...  \n",
              "3  [How old was Lincoln in 1816?, Did Lincoln win...  "
            ],
            "text/html": [
              "\n",
              "  <div id=\"df-ab627bcd-8840-4540-bda5-050acc3bc3e4\" class=\"colab-df-container\">\n",
              "    <div>\n",
              "<style scoped>\n",
              "    .dataframe tbody tr th:only-of-type {\n",
              "        vertical-align: middle;\n",
              "    }\n",
              "\n",
              "    .dataframe tbody tr th {\n",
              "        vertical-align: top;\n",
              "    }\n",
              "\n",
              "    .dataframe thead th {\n",
              "        text-align: right;\n",
              "    }\n",
              "</style>\n",
              "<table border=\"1\" class=\"dataframe\">\n",
              "  <thead>\n",
              "    <tr style=\"text-align: right;\">\n",
              "      <th></th>\n",
              "      <th>session</th>\n",
              "      <th>duration_minutes</th>\n",
              "      <th>questions</th>\n",
              "    </tr>\n",
              "  </thead>\n",
              "  <tbody>\n",
              "    <tr>\n",
              "      <th>0</th>\n",
              "      <td>1</td>\n",
              "      <td>30</td>\n",
              "      <td>[How long was Lincoln's legal Career?, How man...</td>\n",
              "    </tr>\n",
              "    <tr>\n",
              "      <th>1</th>\n",
              "      <td>2</td>\n",
              "      <td>30</td>\n",
              "      <td>[Did lincoln have 18 months of schooling?, Do ...</td>\n",
              "    </tr>\n",
              "    <tr>\n",
              "      <th>2</th>\n",
              "      <td>3</td>\n",
              "      <td>30</td>\n",
              "      <td>[Why did Lincoln issue the Emancipation Procla...</td>\n",
              "    </tr>\n",
              "    <tr>\n",
              "      <th>3</th>\n",
              "      <td>4</td>\n",
              "      <td>30</td>\n",
              "      <td>[How old was Lincoln in 1816?, Did Lincoln win...</td>\n",
              "    </tr>\n",
              "  </tbody>\n",
              "</table>\n",
              "</div>\n",
              "    <div class=\"colab-df-buttons\">\n",
              "\n",
              "  <div class=\"colab-df-container\">\n",
              "    <button class=\"colab-df-convert\" onclick=\"convertToInteractive('df-ab627bcd-8840-4540-bda5-050acc3bc3e4')\"\n",
              "            title=\"Convert this dataframe to an interactive table.\"\n",
              "            style=\"display:none;\">\n",
              "\n",
              "  <svg xmlns=\"http://www.w3.org/2000/svg\" height=\"24px\" viewBox=\"0 -960 960 960\">\n",
              "    <path d=\"M120-120v-720h720v720H120Zm60-500h600v-160H180v160Zm220 220h160v-160H400v160Zm0 220h160v-160H400v160ZM180-400h160v-160H180v160Zm440 0h160v-160H620v160ZM180-180h160v-160H180v160Zm440 0h160v-160H620v160Z\"/>\n",
              "  </svg>\n",
              "    </button>\n",
              "\n",
              "  <style>\n",
              "    .colab-df-container {\n",
              "      display:flex;\n",
              "      gap: 12px;\n",
              "    }\n",
              "\n",
              "    .colab-df-convert {\n",
              "      background-color: #E8F0FE;\n",
              "      border: none;\n",
              "      border-radius: 50%;\n",
              "      cursor: pointer;\n",
              "      display: none;\n",
              "      fill: #1967D2;\n",
              "      height: 32px;\n",
              "      padding: 0 0 0 0;\n",
              "      width: 32px;\n",
              "    }\n",
              "\n",
              "    .colab-df-convert:hover {\n",
              "      background-color: #E2EBFA;\n",
              "      box-shadow: 0px 1px 2px rgba(60, 64, 67, 0.3), 0px 1px 3px 1px rgba(60, 64, 67, 0.15);\n",
              "      fill: #174EA6;\n",
              "    }\n",
              "\n",
              "    .colab-df-buttons div {\n",
              "      margin-bottom: 4px;\n",
              "    }\n",
              "\n",
              "    [theme=dark] .colab-df-convert {\n",
              "      background-color: #3B4455;\n",
              "      fill: #D2E3FC;\n",
              "    }\n",
              "\n",
              "    [theme=dark] .colab-df-convert:hover {\n",
              "      background-color: #434B5C;\n",
              "      box-shadow: 0px 1px 3px 1px rgba(0, 0, 0, 0.15);\n",
              "      filter: drop-shadow(0px 1px 2px rgba(0, 0, 0, 0.3));\n",
              "      fill: #FFFFFF;\n",
              "    }\n",
              "  </style>\n",
              "\n",
              "    <script>\n",
              "      const buttonEl =\n",
              "        document.querySelector('#df-ab627bcd-8840-4540-bda5-050acc3bc3e4 button.colab-df-convert');\n",
              "      buttonEl.style.display =\n",
              "        google.colab.kernel.accessAllowed ? 'block' : 'none';\n",
              "\n",
              "      async function convertToInteractive(key) {\n",
              "        const element = document.querySelector('#df-ab627bcd-8840-4540-bda5-050acc3bc3e4');\n",
              "        const dataTable =\n",
              "          await google.colab.kernel.invokeFunction('convertToInteractive',\n",
              "                                                    [key], {});\n",
              "        if (!dataTable) return;\n",
              "\n",
              "        const docLinkHtml = 'Like what you see? Visit the ' +\n",
              "          '<a target=\"_blank\" href=https://colab.research.google.com/notebooks/data_table.ipynb>data table notebook</a>'\n",
              "          + ' to learn more about interactive tables.';\n",
              "        element.innerHTML = '';\n",
              "        dataTable['output_type'] = 'display_data';\n",
              "        await google.colab.output.renderOutput(dataTable, element);\n",
              "        const docLink = document.createElement('div');\n",
              "        docLink.innerHTML = docLinkHtml;\n",
              "        element.appendChild(docLink);\n",
              "      }\n",
              "    </script>\n",
              "  </div>\n",
              "\n",
              "\n",
              "    <div id=\"df-52fb97df-5215-4876-940c-a56066efb5d0\">\n",
              "      <button class=\"colab-df-quickchart\" onclick=\"quickchart('df-52fb97df-5215-4876-940c-a56066efb5d0')\"\n",
              "                title=\"Suggest charts\"\n",
              "                style=\"display:none;\">\n",
              "\n",
              "<svg xmlns=\"http://www.w3.org/2000/svg\" height=\"24px\"viewBox=\"0 0 24 24\"\n",
              "     width=\"24px\">\n",
              "    <g>\n",
              "        <path d=\"M19 3H5c-1.1 0-2 .9-2 2v14c0 1.1.9 2 2 2h14c1.1 0 2-.9 2-2V5c0-1.1-.9-2-2-2zM9 17H7v-7h2v7zm4 0h-2V7h2v10zm4 0h-2v-4h2v4z\"/>\n",
              "    </g>\n",
              "</svg>\n",
              "      </button>\n",
              "\n",
              "<style>\n",
              "  .colab-df-quickchart {\n",
              "      --bg-color: #E8F0FE;\n",
              "      --fill-color: #1967D2;\n",
              "      --hover-bg-color: #E2EBFA;\n",
              "      --hover-fill-color: #174EA6;\n",
              "      --disabled-fill-color: #AAA;\n",
              "      --disabled-bg-color: #DDD;\n",
              "  }\n",
              "\n",
              "  [theme=dark] .colab-df-quickchart {\n",
              "      --bg-color: #3B4455;\n",
              "      --fill-color: #D2E3FC;\n",
              "      --hover-bg-color: #434B5C;\n",
              "      --hover-fill-color: #FFFFFF;\n",
              "      --disabled-bg-color: #3B4455;\n",
              "      --disabled-fill-color: #666;\n",
              "  }\n",
              "\n",
              "  .colab-df-quickchart {\n",
              "    background-color: var(--bg-color);\n",
              "    border: none;\n",
              "    border-radius: 50%;\n",
              "    cursor: pointer;\n",
              "    display: none;\n",
              "    fill: var(--fill-color);\n",
              "    height: 32px;\n",
              "    padding: 0;\n",
              "    width: 32px;\n",
              "  }\n",
              "\n",
              "  .colab-df-quickchart:hover {\n",
              "    background-color: var(--hover-bg-color);\n",
              "    box-shadow: 0 1px 2px rgba(60, 64, 67, 0.3), 0 1px 3px 1px rgba(60, 64, 67, 0.15);\n",
              "    fill: var(--button-hover-fill-color);\n",
              "  }\n",
              "\n",
              "  .colab-df-quickchart-complete:disabled,\n",
              "  .colab-df-quickchart-complete:disabled:hover {\n",
              "    background-color: var(--disabled-bg-color);\n",
              "    fill: var(--disabled-fill-color);\n",
              "    box-shadow: none;\n",
              "  }\n",
              "\n",
              "  .colab-df-spinner {\n",
              "    border: 2px solid var(--fill-color);\n",
              "    border-color: transparent;\n",
              "    border-bottom-color: var(--fill-color);\n",
              "    animation:\n",
              "      spin 1s steps(1) infinite;\n",
              "  }\n",
              "\n",
              "  @keyframes spin {\n",
              "    0% {\n",
              "      border-color: transparent;\n",
              "      border-bottom-color: var(--fill-color);\n",
              "      border-left-color: var(--fill-color);\n",
              "    }\n",
              "    20% {\n",
              "      border-color: transparent;\n",
              "      border-left-color: var(--fill-color);\n",
              "      border-top-color: var(--fill-color);\n",
              "    }\n",
              "    30% {\n",
              "      border-color: transparent;\n",
              "      border-left-color: var(--fill-color);\n",
              "      border-top-color: var(--fill-color);\n",
              "      border-right-color: var(--fill-color);\n",
              "    }\n",
              "    40% {\n",
              "      border-color: transparent;\n",
              "      border-right-color: var(--fill-color);\n",
              "      border-top-color: var(--fill-color);\n",
              "    }\n",
              "    60% {\n",
              "      border-color: transparent;\n",
              "      border-right-color: var(--fill-color);\n",
              "    }\n",
              "    80% {\n",
              "      border-color: transparent;\n",
              "      border-right-color: var(--fill-color);\n",
              "      border-bottom-color: var(--fill-color);\n",
              "    }\n",
              "    90% {\n",
              "      border-color: transparent;\n",
              "      border-bottom-color: var(--fill-color);\n",
              "    }\n",
              "  }\n",
              "</style>\n",
              "\n",
              "      <script>\n",
              "        async function quickchart(key) {\n",
              "          const quickchartButtonEl =\n",
              "            document.querySelector('#' + key + ' button');\n",
              "          quickchartButtonEl.disabled = true;  // To prevent multiple clicks.\n",
              "          quickchartButtonEl.classList.add('colab-df-spinner');\n",
              "          try {\n",
              "            const charts = await google.colab.kernel.invokeFunction(\n",
              "                'suggestCharts', [key], {});\n",
              "          } catch (error) {\n",
              "            console.error('Error during call to suggestCharts:', error);\n",
              "          }\n",
              "          quickchartButtonEl.classList.remove('colab-df-spinner');\n",
              "          quickchartButtonEl.classList.add('colab-df-quickchart-complete');\n",
              "        }\n",
              "        (() => {\n",
              "          let quickchartButtonEl =\n",
              "            document.querySelector('#df-52fb97df-5215-4876-940c-a56066efb5d0 button');\n",
              "          quickchartButtonEl.style.display =\n",
              "            google.colab.kernel.accessAllowed ? 'block' : 'none';\n",
              "        })();\n",
              "      </script>\n",
              "    </div>\n",
              "\n",
              "  <div id=\"id_41623529-7e7b-4cad-97d5-ddd5f3fff27c\">\n",
              "    <style>\n",
              "      .colab-df-generate {\n",
              "        background-color: #E8F0FE;\n",
              "        border: none;\n",
              "        border-radius: 50%;\n",
              "        cursor: pointer;\n",
              "        display: none;\n",
              "        fill: #1967D2;\n",
              "        height: 32px;\n",
              "        padding: 0 0 0 0;\n",
              "        width: 32px;\n",
              "      }\n",
              "\n",
              "      .colab-df-generate:hover {\n",
              "        background-color: #E2EBFA;\n",
              "        box-shadow: 0px 1px 2px rgba(60, 64, 67, 0.3), 0px 1px 3px 1px rgba(60, 64, 67, 0.15);\n",
              "        fill: #174EA6;\n",
              "      }\n",
              "\n",
              "      [theme=dark] .colab-df-generate {\n",
              "        background-color: #3B4455;\n",
              "        fill: #D2E3FC;\n",
              "      }\n",
              "\n",
              "      [theme=dark] .colab-df-generate:hover {\n",
              "        background-color: #434B5C;\n",
              "        box-shadow: 0px 1px 3px 1px rgba(0, 0, 0, 0.15);\n",
              "        filter: drop-shadow(0px 1px 2px rgba(0, 0, 0, 0.3));\n",
              "        fill: #FFFFFF;\n",
              "      }\n",
              "    </style>\n",
              "    <button class=\"colab-df-generate\" onclick=\"generateWithVariable('plan')\"\n",
              "            title=\"Generate code using this dataframe.\"\n",
              "            style=\"display:none;\">\n",
              "\n",
              "  <svg xmlns=\"http://www.w3.org/2000/svg\" height=\"24px\"viewBox=\"0 0 24 24\"\n",
              "       width=\"24px\">\n",
              "    <path d=\"M7,19H8.4L18.45,9,17,7.55,7,17.6ZM5,21V16.75L18.45,3.32a2,2,0,0,1,2.83,0l1.4,1.43a1.91,1.91,0,0,1,.58,1.4,1.91,1.91,0,0,1-.58,1.4L9.25,21ZM18.45,9,17,7.55Zm-12,3A5.31,5.31,0,0,0,4.9,8.1,5.31,5.31,0,0,0,1,6.5,5.31,5.31,0,0,0,4.9,4.9,5.31,5.31,0,0,0,6.5,1,5.31,5.31,0,0,0,8.1,4.9,5.31,5.31,0,0,0,12,6.5,5.46,5.46,0,0,0,6.5,12Z\"/>\n",
              "  </svg>\n",
              "    </button>\n",
              "    <script>\n",
              "      (() => {\n",
              "      const buttonEl =\n",
              "        document.querySelector('#id_41623529-7e7b-4cad-97d5-ddd5f3fff27c button.colab-df-generate');\n",
              "      buttonEl.style.display =\n",
              "        google.colab.kernel.accessAllowed ? 'block' : 'none';\n",
              "\n",
              "      buttonEl.onclick = () => {\n",
              "        google.colab.notebook.generateWithVariable('plan');\n",
              "      }\n",
              "      })();\n",
              "    </script>\n",
              "  </div>\n",
              "\n",
              "    </div>\n",
              "  </div>\n"
            ],
            "application/vnd.google.colaboratory.intrinsic+json": {
              "type": "dataframe",
              "variable_name": "plan",
              "summary": "{\n  \"name\": \"plan\",\n  \"rows\": 4,\n  \"fields\": [\n    {\n      \"column\": \"session\",\n      \"properties\": {\n        \"dtype\": \"number\",\n        \"std\": 1,\n        \"min\": 1,\n        \"max\": 4,\n        \"num_unique_values\": 4,\n        \"samples\": [\n          2,\n          4,\n          1\n        ],\n        \"semantic_type\": \"\",\n        \"description\": \"\"\n      }\n    },\n    {\n      \"column\": \"duration_minutes\",\n      \"properties\": {\n        \"dtype\": \"number\",\n        \"std\": 0,\n        \"min\": 30,\n        \"max\": 30,\n        \"num_unique_values\": 1,\n        \"samples\": [\n          30\n        ],\n        \"semantic_type\": \"\",\n        \"description\": \"\"\n      }\n    },\n    {\n      \"column\": \"questions\",\n      \"properties\": {\n        \"dtype\": \"object\",\n        \"semantic_type\": \"\",\n        \"description\": \"\"\n      }\n    }\n  ]\n}"
            }
          },
          "metadata": {},
          "execution_count": 17
        }
      ],
      "source": [
        "def make_study_plan(df_in, topic_keyword, hours, session_minutes=30):\n",
        "    mask = df_in['ArticleTitle'].str.contains(topic_keyword, case=False, na=False)\n",
        "    subset = df_in[mask].copy()\n",
        "    if subset.empty:\n",
        "        subset = df_in.sample(min(30,len(df_in)), random_state=0)\n",
        "    total_minutes = int(hours*60)\n",
        "    sessions = max(1, total_minutes // session_minutes)\n",
        "    needed = min(sessions*3, len(subset))\n",
        "    chosen = subset.sample(needed, random_state=1)\n",
        "    rows=[]\n",
        "    idx=0\n",
        "    for s in range(1, sessions+1):\n",
        "        block = chosen.iloc[idx:idx+3]\n",
        "        rows.append({\n",
        "            'session': s,\n",
        "            'duration_minutes': session_minutes,\n",
        "            'questions': block['Question'].tolist()\n",
        "        })\n",
        "        idx += 3\n",
        "        if idx >= len(chosen): break\n",
        "    return pd.DataFrame(rows)\n",
        "\n",
        "# Example: topic \"Abraham\", for 2 hours\n",
        "plan = make_study_plan(df, topic_keyword='Abraham', hours=2)\n",
        "plan\n"
      ]
    },
    {
      "cell_type": "code",
      "execution_count": null,
      "metadata": {
        "colab": {
          "base_uri": "https://localhost:8080/"
        },
        "id": "x7FkCdT4rFfx",
        "outputId": "640564a8-7a60-483b-a669-edecbd1d9e23"
      },
      "outputs": [
        {
          "output_type": "stream",
          "name": "stdout",
          "text": [
            "Combined rows: 1715\n"
          ]
        }
      ],
      "source": [
        "import glob\n",
        "paths = glob.glob('/content/*question_answer_pairs*.txt')  # or /mnt/data/\n",
        "frames = []\n",
        "for p in paths:\n",
        "    tmp = pd.read_csv(p, sep=\"\\t\", encoding='utf-8', engine='python')\n",
        "    frames.append(tmp)\n",
        "big = pd.concat(frames, ignore_index=True)\n",
        "print(\"Combined rows:\", len(big))\n"
      ]
    },
    {
      "cell_type": "code",
      "execution_count": null,
      "metadata": {
        "colab": {
          "base_uri": "https://localhost:8080/"
        },
        "id": "xYmA5uzirJM8",
        "outputId": "8217d0b3-7dd3-4ea5-d139-ef2b338993e4"
      },
      "outputs": [
        {
          "output_type": "stream",
          "name": "stdout",
          "text": [
            "Rows before: 1146 | after removing empty answers: 1146\n"
          ]
        }
      ],
      "source": [
        "import re, pandas as pd\n",
        "\n",
        "# Replace literal 'NULL' or 'nan' with empty\n",
        "df = df.replace({'NULL': '', 'nan': ''})\n",
        "\n",
        "# Normalize answers\n",
        "def normalize_answer(a):\n",
        "    if pd.isna(a): return ''\n",
        "    s = str(a).strip()\n",
        "    s = re.sub(r'\\.+$', '', s)        # remove trailing dots\n",
        "    s = re.sub(r'\\s+', ' ', s)        # collapse spaces\n",
        "    return s.lower()\n",
        "\n",
        "df['Answer_norm'] = df['Answer'].apply(normalize_answer)\n",
        "\n",
        "# Drop rows with empty answers\n",
        "before = len(df)\n",
        "df = df[df['Answer_norm'] != ''].copy()\n",
        "print('Rows before:', before, '| after removing empty answers:', len(df))\n"
      ]
    },
    {
      "cell_type": "code",
      "execution_count": null,
      "metadata": {
        "colab": {
          "base_uri": "https://localhost:8080/"
        },
        "id": "mb3RgipprYsA",
        "outputId": "b65e6a8a-9d4f-4804-cb5e-a12a67c0568d"
      },
      "outputs": [
        {
          "output_type": "stream",
          "name": "stdout",
          "text": [
            "Dropped duplicates: 0   Remaining rows: 1146\n"
          ]
        }
      ],
      "source": [
        "before = len(df)\n",
        "df = df.drop_duplicates(subset=['ArticleTitle','Question','Answer_norm'])\n",
        "after = len(df)\n",
        "print('Dropped duplicates:', before - after, '  Remaining rows:', after)\n"
      ]
    },
    {
      "cell_type": "code",
      "execution_count": null,
      "metadata": {
        "colab": {
          "base_uri": "https://localhost:8080/"
        },
        "id": "okGkQ7gorpMh",
        "outputId": "776a2d54-6af9-4ee6-f895-1d2f6e75d3a0"
      },
      "outputs": [
        {
          "output_type": "stream",
          "name": "stdout",
          "text": [
            "DiffQ_clean\n",
            "NaN       319\n",
            "hard      300\n",
            "medium    290\n",
            "easy      237\n",
            "Name: count, dtype: int64\n"
          ]
        }
      ],
      "source": [
        "valid = {'easy','medium','hard'}\n",
        "df['DiffQ_clean'] = df['DifficultyFromQuestioner'].where(df['DifficultyFromQuestioner'].isin(valid))\n",
        "print(df['DiffQ_clean'].value_counts(dropna=False))\n"
      ]
    },
    {
      "cell_type": "markdown",
      "source": [
        "## Question Difficulty Analysis\n",
        "\n",
        "- **Purpose:** Visualize the number of questions per difficulty level (`easy`, `medium`, `hard`).  \n",
        "- **Logic:** Count occurrences of `DiffQ_clean` column and plot a bar chart.  \n",
        "- **Output:** Shows both **numeric counts** and **bar plot**.\n"
      ],
      "metadata": {
        "id": "TM-YQPjiemHf"
      }
    },
    {
      "cell_type": "code",
      "execution_count": null,
      "metadata": {
        "colab": {
          "base_uri": "https://localhost:8080/",
          "height": 619
        },
        "id": "TM5ixk53rvaP",
        "outputId": "dba5324a-3b9d-4c99-8bdd-1a4026cb1cd2"
      },
      "outputs": [
        {
          "output_type": "stream",
          "name": "stdout",
          "text": [
            "DiffQ_clean\n",
            "easy      237\n",
            "hard      300\n",
            "medium    290\n",
            "NaN       319\n",
            "Name: count, dtype: int64\n"
          ]
        },
        {
          "output_type": "display_data",
          "data": {
            "text/plain": [
              "<Figure size 640x480 with 1 Axes>"
            ],
            "image/png": "[encoded data removed]"
          },
          "metadata": {}
        }
      ],
      "source": [
        "import matplotlib.pyplot as plt\n",
        "\n",
        "counts = df['DiffQ_clean'].value_counts(dropna=False).sort_index()\n",
        "print(counts)   # print the numbers also\n",
        "\n",
        "plt.figure()\n",
        "counts.plot(kind='bar')\n",
        "plt.title('Question Difficulty (from Questioner)')\n",
        "plt.xlabel('Difficulty')\n",
        "plt.ylabel('Count')\n",
        "plt.show()\n"
      ]
    },
    {
      "cell_type": "markdown",
      "source": [
        "##  Predicting Question Difficulty with ML\n",
        "\n",
        "- **Purpose:** Build a model to predict difficulty (`easy`, `medium`, `hard`) from the question text.  \n",
        "- **Steps:**\n",
        "  1. Filter dataset to only rows with valid difficulty labels.  \n",
        "  2. Convert questions to numerical features using **TF-IDF**.  \n",
        "  3. Split data into training and test sets (80/20).  \n",
        "  4. Train a **Logistic Regression** classifier.  \n",
        "  5. Evaluate using **classification report** (precision, recall, f1-score).\n"
      ],
      "metadata": {
        "id": "CVaqXRFIesMG"
      }
    },
    {
      "cell_type": "code",
      "execution_count": null,
      "metadata": {
        "colab": {
          "base_uri": "https://localhost:8080/"
        },
        "id": "3qxBGxna2qCJ",
        "outputId": "e4eb0033-6139-4d92-b154-a3f962a5481e"
      },
      "outputs": [
        {
          "output_type": "stream",
          "name": "stdout",
          "text": [
            "              precision    recall  f1-score   support\n",
            "\n",
            "        easy       0.61      0.44      0.51        45\n",
            "        hard       0.55      0.73      0.63        59\n",
            "      medium       0.65      0.58      0.62        62\n",
            "\n",
            "    accuracy                           0.60       166\n",
            "   macro avg       0.60      0.58      0.59       166\n",
            "weighted avg       0.60      0.60      0.59       166\n",
            "\n"
          ]
        }
      ],
      "source": [
        "from sklearn.model_selection import train_test_split\n",
        "from sklearn.feature_extraction.text import TfidfVectorizer\n",
        "from sklearn.linear_model import LogisticRegression\n",
        "from sklearn.metrics import classification_report\n",
        "\n",
        "# Only rows with valid difficulty\n",
        "ml_df = df[df['DiffQ_clean'].notna()].copy()\n",
        "\n",
        "X = ml_df['Question']\n",
        "y = ml_df['DiffQ_clean']\n",
        "\n",
        "# Convert text to numerical features\n",
        "vec = TfidfVectorizer(max_features=3000, stop_words='english')\n",
        "X_vec = vec.fit_transform(X)\n",
        "\n",
        "# Split data\n",
        "X_train, X_test, y_train, y_test = train_test_split(X_vec, y, test_size=0.2, random_state=42)\n",
        "\n",
        "# Train model\n",
        "clf = LogisticRegression(max_iter=300)\n",
        "clf.fit(X_train, y_train)\n",
        "\n",
        "# Evaluate\n",
        "y_pred = clf.predict(X_test)\n",
        "print(classification_report(y_test, y_pred))\n"
      ]
    },
    {
      "cell_type": "code",
      "execution_count": null,
      "metadata": {
        "colab": {
          "base_uri": "https://localhost:8080/"
        },
        "id": "Oq-qlV-XQHzF",
        "outputId": "2b568e30-e619-4ff0-aa9c-5759817972c1"
      },
      "outputs": [
        {
          "output_type": "stream",
          "name": "stderr",
          "text": [
            "[nltk_data] Downloading package punkt_tab to /root/nltk_data...\n",
            "[nltk_data]   Unzipping tokenizers/punkt_tab.zip.\n"
          ]
        },
        {
          "output_type": "execute_result",
          "data": {
            "text/plain": [
              "True"
            ]
          },
          "metadata": {},
          "execution_count": 25
        }
      ],
      "source": [
        "import nltk\n",
        "nltk.download('punkt_tab')"
      ]
    },
    {
      "cell_type": "markdown",
      "source": [
        "## Text Summarization (NLP)\n",
        "\n",
        "- **Purpose:** Summarize long study material into a few key sentences.  \n",
        "- **Method:**\n",
        "  - Tokenize text into words and sentences using NLTK.  \n",
        "  - Build a frequency table of important words.  \n",
        "  - Score sentences based on word frequencies.  \n",
        "  - Select top `N` sentences as summary.  \n",
        "- **Example:** Summarizing a short text about Abraham Lincoln.\n"
      ],
      "metadata": {
        "id": "dXyyF59bna8y"
      }
    },
    {
      "cell_type": "code",
      "execution_count": null,
      "metadata": {
        "colab": {
          "base_uri": "https://localhost:8080/"
        },
        "id": "LdeQ2V4C2s89",
        "outputId": "57c6ca8b-2a29-446f-ee1d-045f09ffa606"
      },
      "outputs": [
        {
          "output_type": "stream",
          "name": "stdout",
          "text": [
            "Summary: Abraham Lincoln was the 16th President of the United States. He led the nation through the American Civil War.\n"
          ]
        },
        {
          "output_type": "stream",
          "name": "stderr",
          "text": [
            "[nltk_data] Downloading package punkt to /root/nltk_data...\n",
            "[nltk_data]   Package punkt is already up-to-date!\n",
            "[nltk_data] Downloading package stopwords to /root/nltk_data...\n",
            "[nltk_data]   Package stopwords is already up-to-date!\n"
          ]
        }
      ],
      "source": [
        "import nltk\n",
        "from nltk.corpus import stopwords\n",
        "from nltk.tokenize import sent_tokenize, word_tokenize\n",
        "import heapq\n",
        "\n",
        "nltk.download('punkt')\n",
        "nltk.download('stopwords')\n",
        "\n",
        "def summarize_text(text, num_sentences=2):\n",
        "    stop_words = set(stopwords.words(\"english\"))\n",
        "    words = word_tokenize(text.lower())\n",
        "\n",
        "    freq = {}\n",
        "    for w in words:\n",
        "        if w not in stop_words and w.isalpha():\n",
        "            freq[w] = freq.get(w,0)+1\n",
        "\n",
        "    # Score sentences\n",
        "    sentences = sent_tokenize(text)\n",
        "    sent_scores = {}\n",
        "    for sent in sentences:\n",
        "        for w in word_tokenize(sent.lower()):\n",
        "            if w in freq:\n",
        "                sent_scores[sent] = sent_scores.get(sent,0)+freq[w]\n",
        "\n",
        "    # Top sentences\n",
        "    summary = heapq.nlargest(num_sentences, sent_scores, key=sent_scores.get)\n",
        "    return \" \".join(summary)\n",
        "\n",
        "sample_text = \"\"\"Abraham Lincoln was the 16th President of the United States.\n",
        "He led the nation through the American Civil War.\n",
        "He preserved the Union and abolished slavery.\n",
        "He gave the famous Gettysburg Address.\"\"\"\n",
        "\n",
        "print(\"Summary:\", summarize_text(sample_text))\n"
      ]
    },
    {
      "cell_type": "markdown",
      "source": [
        "##  Student Feedback System\n",
        "\n",
        "- **Purpose:** Provide encouraging feedback based on quiz performance.  \n",
        "- **Logic:**  \n",
        "  - `>= 80%` → 🌟 Excellent work!  \n",
        "  - `>= 50%` → 👍 Good job, but revise weak topics.  \n",
        "  - `< 50%` → 💡 Don’t give up! Practice more and you’ll improve.  \n",
        "- **Example:** For 8/10 correct → \"🌟 Excellent work! Keep it up.\"\n"
      ],
      "metadata": {
        "id": "pvzCWlm9nkG9"
      }
    },
    {
      "cell_type": "code",
      "execution_count": null,
      "metadata": {
        "colab": {
          "base_uri": "https://localhost:8080/"
        },
        "id": "RWrvck7IQT7M",
        "outputId": "cdc7d735-ab10-415f-d11b-1db80d96c439"
      },
      "outputs": [
        {
          "output_type": "stream",
          "name": "stdout",
          "text": [
            "🌟 Excellent work! Keep it up.\n"
          ]
        }
      ],
      "source": [
        "def feedback(score, total):\n",
        "    percent = (score/total)*100\n",
        "    if percent >= 80:\n",
        "        return \"🌟 Excellent work! Keep it up.\"\n",
        "    elif percent >= 50:\n",
        "        return \"👍 Good job, but revise weak topics.\"\n",
        "    else:\n",
        "        return \"💡 Don’t give up! Practice more and you’ll improve.\"\n",
        "\n",
        "print(feedback(8,10))   # Example: 8/10 correct\n"
      ]
    },
    {
      "cell_type": "markdown",
      "source": [
        "##  Keyword Extraction\n",
        "\n",
        "- **Purpose:** Extract the most important words from a passage or answer.  \n",
        "- **Method:** Uses `CountVectorizer` (Bag-of-Words) to count word frequency.  \n",
        "- **Example Input:**  \n",
        "  \"Machine learning uses algorithms and data to learn patterns. AI can make predictions using models.\"  \n",
        "- **Output:**  \n",
        "  `['machine', 'learning', 'uses', 'algorithms', 'data']`\n"
      ],
      "metadata": {
        "id": "AqEBdCRhnvP1"
      }
    },
    {
      "cell_type": "code",
      "execution_count": null,
      "metadata": {
        "colab": {
          "base_uri": "https://localhost:8080/"
        },
        "id": "IpteEvC7Qchq",
        "outputId": "2837a9f7-9ecf-4fcc-bd0c-316120b7ecee"
      },
      "outputs": [
        {
          "output_type": "stream",
          "name": "stdout",
          "text": [
            "Keywords: ['machine', 'learning', 'uses', 'algorithms', 'data']\n"
          ]
        }
      ],
      "source": [
        "from sklearn.feature_extraction.text import CountVectorizer\n",
        "\n",
        "def get_keywords(text, top_n=5):\n",
        "    vec = CountVectorizer(stop_words='english').fit([text])\n",
        "    bag = vec.transform([text])\n",
        "    sum_words = bag.sum(axis=0)\n",
        "    words_freq = [(word, sum_words[0, idx]) for word, idx in vec.vocabulary_.items()]\n",
        "    words_freq = sorted(words_freq, key=lambda x: x[1], reverse=True)\n",
        "    return [w for w,f in words_freq[:top_n]]\n",
        "\n",
        "sample_text = \"Machine learning uses algorithms and data to learn patterns. AI can make predictions using models.\"\n",
        "print(\"Keywords:\", get_keywords(sample_text))\n"
      ]
    },
    {
      "cell_type": "markdown",
      "source": [
        "##  Resource Recommendation (Optional)\n",
        "\n",
        "- **Purpose:** Suggests useful study resources for a given subject.  \n",
        "- **Method:** Simple `if-elif` rule-based system that matches keywords (e.g., Math, AI, History).  \n",
        "- **Example:**  \n",
        "  Input → \"AI\"  \n",
        "  Output → [\"Andrew Ng ML course\", \"https://www.coursera.org/learn/machine-learning\"]\n"
      ],
      "metadata": {
        "id": "N-l8W64Nn5C-"
      }
    },
    {
      "cell_type": "code",
      "execution_count": null,
      "metadata": {
        "colab": {
          "base_uri": "https://localhost:8080/"
        },
        "id": "P9AyOQfNQfmi",
        "outputId": "716cf6f6-b527-430a-9792-ca9eeabb196c"
      },
      "outputs": [
        {
          "output_type": "stream",
          "name": "stdout",
          "text": [
            "['Andrew Ng ML course', 'https://www.coursera.org/learn/machine-learning']\n"
          ]
        }
      ],
      "source": [
        "def suggest_resources(subject):\n",
        "    subject = subject.lower()\n",
        "    if \"math\" in subject:\n",
        "        return [\"Khan Academy - Math\", \"https://www.khanacademy.org/math\"]\n",
        "    elif \"ai\" in subject or \"ml\" in subject:\n",
        "        return [\"Andrew Ng ML course\", \"https://www.coursera.org/learn/machine-learning\"]\n",
        "    elif \"history\" in subject:\n",
        "        return [\"History.com\", \"https://www.history.com/\"]\n",
        "    else:\n",
        "        return [\"Wikipedia\", \"https://en.wikipedia.org\"]\n",
        "\n",
        "print(suggest_resources(\"AI\"))\n"
      ]
    },
    {
      "cell_type": "markdown",
      "source": [
        "### Step 1: Add Ngrok Auth Token  \n",
        "This command saves the ngrok authentication token in Colab.  \n",
        "It allows us to create secure tunnels to expose our Flask app publicly.  \n",
        "We need to run this only once.\n"
      ],
      "metadata": {
        "id": "aPxYTPMOoLKW"
      }
    },
    {
      "cell_type": "code",
      "source": [
        "!ngrok config add-authtoken 333wfZBhE0ggk4fX0U2tW8yDjYY_2hXxN6MP3TSzpTSZpNisX"
      ],
      "metadata": {
        "colab": {
          "base_uri": "https://localhost:8080/"
        },
        "id": "igd8-QBpS9Wr",
        "outputId": "932f671c-af2d-498b-aaba-e28bde0c7c98"
      },
      "execution_count": null,
      "outputs": [
        {
          "output_type": "stream",
          "name": "stdout",
          "text": [
            "Authtoken saved to configuration file: /root/.config/ngrok/ngrok.yml\n"
          ]
        }
      ]
    },
    {
      "cell_type": "markdown",
      "source": [
        "### Step 2: Kill Old Ngrok Tunnels  \n",
        "This step ensures no previous ngrok tunnels are running.  \n",
        "It helps avoid errors like **ERR_NGROK_3200** when restarting the server.\n"
      ],
      "metadata": {
        "id": "o3dJMrNKoPbb"
      }
    },
    {
      "cell_type": "code",
      "source": [
        "from pyngrok import ngrok\n",
        "ngrok.kill()"
      ],
      "metadata": {
        "id": "SioZLTVeUSt1"
      },
      "execution_count": null,
      "outputs": []
    },
    {
      "cell_type": "markdown",
      "source": [
        "### Step 3: Start Ngrok Tunnel and Run Flask App  \n",
        "Here we connect Flask (running on port 5000) with ngrok to get a public URL.  \n",
        "The public URL can be shared for testing the project online.\n"
      ],
      "metadata": {
        "id": "U7LY3NUhoR17"
      }
    },
    {
      "cell_type": "code",
      "source": [
        "app.run(port=5000, debug=False)"
      ],
      "metadata": {
        "colab": {
          "base_uri": "https://localhost:8080/"
        },
        "id": "GKhOANpQUUd_",
        "outputId": "cd0c5be1-b5d3-419d-fdad-e7a0e76f080f"
      },
      "execution_count": null,
      "outputs": [
        {
          "output_type": "stream",
          "name": "stdout",
          "text": [
            " * Serving Flask app '__main__'\n",
            " * Debug mode: off\n"
          ]
        },
        {
          "output_type": "stream",
          "name": "stderr",
          "text": [
            "INFO:werkzeug:\u001b[31m\u001b[1mWARNING: This is a development server. Do not use it in a production deployment. Use a production WSGI server instead.\u001b[0m\n",
            " * Running on http://127.0.0.1:5000\n",
            "INFO:werkzeug:\u001b[33mPress CTRL+C to quit\u001b[0m\n"
          ]
        }
      ]
    },
    {
      "cell_type": "markdown",
      "source": [
        "### Step 4: Run Flask App with Ngrok Tunnel  \n",
        "In this step:  \n",
        "- We import ngrok and configure the **auth token**.  \n",
        "- Start a tunnel on port **5000** (where Flask runs).  \n",
        "- Print the **public URL** generated by ngrok.  \n",
        "- Finally, run the Flask app so it is accessible online using the public URL.  \n"
      ],
      "metadata": {
        "id": "r4okYFWTobwR"
      }
    },
    {
      "cell_type": "code",
      "source": [
        "from pyngrok import ngrok, conf\n",
        "\n",
        "# set token\n",
        "conf.get_default().auth_token = \"333wfZBhE0ggk4fX0U2tW8yDjYY_2hXxN6MP3TSzpTSZpNisX\"\n",
        "\n",
        "# start tunnel\n",
        "public_url = ngrok.connect(5000)\n",
        "print(\"Public URL:\", public_url)\n",
        "\n",
        "# run app\n",
        "app.run(port=5000, debug=False)\n"
      ],
      "metadata": {
        "colab": {
          "base_uri": "https://localhost:8080/"
        },
        "id": "D_1YaecGTiDe",
        "outputId": "079de5cb-0660-41b5-8c82-55a88d24ba22"
      },
      "execution_count": null,
      "outputs": [
        {
          "output_type": "stream",
          "name": "stdout",
          "text": [
            "Public URL: NgrokTunnel: \"https://96c880c456b0.ngrok-free.app\" -> \"http://localhost:5000\"\n",
            " * Serving Flask app '__main__'\n",
            " * Debug mode: off\n"
          ]
        },
        {
          "output_type": "stream",
          "name": "stderr",
          "text": [
            "INFO:werkzeug:\u001b[31m\u001b[1mWARNING: This is a development server. Do not use it in a production deployment. Use a production WSGI server instead.\u001b[0m\n",
            " * Running on http://127.0.0.1:5000\n",
            "INFO:werkzeug:\u001b[33mPress CTRL+C to quit\u001b[0m\n",
            "INFO:werkzeug:127.0.0.1 - - [22/Sep/2025 16:46:33] \"GET / HTTP/1.1\" 200 -\n",
            "INFO:werkzeug:127.0.0.1 - - [22/Sep/2025 16:46:34] \"\u001b[33mGET /favicon.ico HTTP/1.1\u001b[0m\" 404 -\n"
          ]
        }
      ]
    }
  ],
  "metadata": {
    "colab": {
      "provenance": [],
      "authorship_tag": "ABX9TyOpgM2TsZyb4X+dmcvAYmJJ",
      "include_colab_link": true
    },
    "kernelspec": {
      "display_name": "Python 3",
      "name": "python3"
    },
    "language_info": {
      "name": "python"
    }
  },
  "nbformat": 4,
  "nbformat_minor": 0
}